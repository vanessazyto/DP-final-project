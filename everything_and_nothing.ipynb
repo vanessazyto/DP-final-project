{
 "cells": [
  {
   "cell_type": "code",
   "execution_count": null,
   "id": "b79e7316",
   "metadata": {},
   "outputs": [],
   "source": [
    "depression = data[data['status'] == 'depression']\n",
    "\n",
    "vectorizer_d = CountVectorizer(stop_words = \"english\")\n",
    "\n",
    "X_depression = vectorizer_d.fit_transform(depression[\"statement\"])\n",
    "\n",
    "sum_words = X_depression.sum(axis = 0)\n",
    "\n",
    "\n",
    "words_freq_d = [(word, sum_words[0, idx]) for word, idx in vectorizer_d.vocabulary_.items()]\n",
    "words_freq_d = sorted(words_freq_d, key=lambda x: x[1], reverse=True)\n",
    "\n",
    "top_20_words_d = words_freq_d[:20]\n",
    "\n",
    "\n",
    "for word, freq in top_20_words_d:\n",
    "    print(f\"{word}: {freq}\")"
   ]
  },
  {
   "cell_type": "code",
   "execution_count": null,
   "id": "fa396437",
   "metadata": {},
   "outputs": [],
   "source": [
    "wordcloud_d = WordCloud(background_color = \"white\", colormap = \"gnuplot\")\n",
    "wordcloud_d.generate_from_frequencies(dict(words_freq_d))\n",
    "plt.figure()\n",
    "plt.imshow(wordcloud_d, interpolation = \"bilinear\")\n",
    "plt.axis(\"off\")\n",
    "plt.show()                "
   ]
  },
  {
   "cell_type": "code",
   "execution_count": null,
   "id": "5b295f8e",
   "metadata": {},
   "outputs": [],
   "source": []
  },
  {
   "cell_type": "code",
   "execution_count": null,
   "id": "282a0a0a",
   "metadata": {},
   "outputs": [],
   "source": [
    "anxiety = data[data['status'] == 'anxiety']\n",
    "\n",
    "vectorizer_a = CountVectorizer(stop_words = \"english\")\n",
    "\n",
    "X_anxiety = vectorizer_a.fit_transform(anxiety[\"statement\"])\n",
    "\n",
    "sum_words = X_anxiety.sum(axis = 0)\n",
    "\n",
    "\n",
    "words_freq_a = [(word, sum_words[0, idx]) for word, idx in vectorizer_a.vocabulary_.items()]\n",
    "words_freq_a = sorted(words_freq_a, key=lambda x: x[1], reverse=True)\n",
    "\n",
    "top_20_words_a = words_freq_a[:20]\n",
    "\n",
    "\n",
    "for word, freq in top_20_words_a:\n",
    "    print(f\"{word}: {freq}\")"
   ]
  },
  {
   "cell_type": "code",
   "execution_count": null,
   "id": "ddd2a1c9",
   "metadata": {},
   "outputs": [],
   "source": [
    "wordcloud_a = WordCloud(background_color = \"white\", colormap = \"gnuplot\")\n",
    "wordcloud_a.generate_from_frequencies(dict(words_freq_a))\n",
    "plt.figure()\n",
    "plt.imshow(wordcloud_a, interpolation = \"bilinear\")\n",
    "plt.axis(\"off\")\n",
    "plt.show()  "
   ]
  }
 ],
 "metadata": {
  "kernelspec": {
   "display_name": "Python 3 (ipykernel)",
   "language": "python",
   "name": "python3"
  },
  "language_info": {
   "codemirror_mode": {
    "name": "ipython",
    "version": 3
   },
   "file_extension": ".py",
   "mimetype": "text/x-python",
   "name": "python",
   "nbconvert_exporter": "python",
   "pygments_lexer": "ipython3",
   "version": "3.11.11"
  }
 },
 "nbformat": 4,
 "nbformat_minor": 5
}
